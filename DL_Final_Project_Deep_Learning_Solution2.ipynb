{
 "cells": [
  {
   "cell_type": "markdown",
   "metadata": {},
   "source": [
    "# APPLIED DEEP LEARNING FINAL PROJECT\n",
    "## Deep Learning Solution\n",
    "### Sandra Marcela Meneses - Diego Fernando López Castillo"
   ]
  },
  {
   "cell_type": "code",
   "execution_count": 1,
   "metadata": {
    "collapsed": true
   },
   "outputs": [],
   "source": [
    "import pandas as pd\n",
    "import os\n",
    "import numpy as np\n",
    "from sklearn.preprocessing import MultiLabelBinarizer\n",
    "from sklearn.multiclass import OneVsRestClassifier\n",
    "from sklearn.ensemble import RandomForestRegressor, RandomForestClassifier\n",
    "from sklearn.metrics import r2_score, roc_auc_score\n",
    "from sklearn.model_selection import train_test_split\n",
    "from sklearn.decomposition import PCA\n",
    "import matplotlib.pyplot as plt\n",
    "from skimage import io\n",
    "from tqdm import tqdm\n",
    "#import os\n",
    "%matplotlib inline"
   ]
  },
  {
   "cell_type": "code",
   "execution_count": 2,
   "metadata": {
    "collapsed": true
   },
   "outputs": [],
   "source": [
    "path = ''"
   ]
  },
  {
   "cell_type": "code",
   "execution_count": 3,
   "metadata": {
    "collapsed": true
   },
   "outputs": [],
   "source": [
    "dataTraining = pd.read_csv(os.path.join(path, 'data','dataTraining.csv'), encoding='UTF-8', index_col=0)\n",
    "dataTesting = pd.read_csv(os.path.join(path,'data', 'dataTesting.csv'), encoding='UTF-8', index_col=0)"
   ]
  },
  {
   "cell_type": "code",
   "execution_count": 4,
   "metadata": {
    "collapsed": false
   },
   "outputs": [
    {
     "data": {
      "text/html": [
       "<div>\n",
       "<style scoped>\n",
       "    .dataframe tbody tr th:only-of-type {\n",
       "        vertical-align: middle;\n",
       "    }\n",
       "\n",
       "    .dataframe tbody tr th {\n",
       "        vertical-align: top;\n",
       "    }\n",
       "\n",
       "    .dataframe thead th {\n",
       "        text-align: right;\n",
       "    }\n",
       "</style>\n",
       "<table border=\"1\" class=\"dataframe\">\n",
       "  <thead>\n",
       "    <tr style=\"text-align: right;\">\n",
       "      <th></th>\n",
       "      <th>year</th>\n",
       "      <th>title</th>\n",
       "      <th>plot</th>\n",
       "      <th>genres</th>\n",
       "      <th>rating</th>\n",
       "    </tr>\n",
       "  </thead>\n",
       "  <tbody>\n",
       "    <tr>\n",
       "      <th>3107</th>\n",
       "      <td>2003</td>\n",
       "      <td>Most</td>\n",
       "      <td>most is the story of a single father who takes...</td>\n",
       "      <td>['Short', 'Drama']</td>\n",
       "      <td>8.0</td>\n",
       "    </tr>\n",
       "    <tr>\n",
       "      <th>900</th>\n",
       "      <td>2008</td>\n",
       "      <td>How to Be a Serial Killer</td>\n",
       "      <td>a serial killer decides to teach the secrets o...</td>\n",
       "      <td>['Comedy', 'Crime', 'Horror']</td>\n",
       "      <td>5.6</td>\n",
       "    </tr>\n",
       "    <tr>\n",
       "      <th>6724</th>\n",
       "      <td>1941</td>\n",
       "      <td>A Woman's Face</td>\n",
       "      <td>in sweden ,  a female blackmailer with a disfi...</td>\n",
       "      <td>['Drama', 'Film-Noir', 'Thriller']</td>\n",
       "      <td>7.2</td>\n",
       "    </tr>\n",
       "    <tr>\n",
       "      <th>4704</th>\n",
       "      <td>1954</td>\n",
       "      <td>Executive Suite</td>\n",
       "      <td>in a friday afternoon in new york ,  the presi...</td>\n",
       "      <td>['Drama']</td>\n",
       "      <td>7.4</td>\n",
       "    </tr>\n",
       "    <tr>\n",
       "      <th>2582</th>\n",
       "      <td>1990</td>\n",
       "      <td>Narrow Margin</td>\n",
       "      <td>in los angeles ,  the editor of a publishing h...</td>\n",
       "      <td>['Action', 'Crime', 'Thriller']</td>\n",
       "      <td>6.6</td>\n",
       "    </tr>\n",
       "  </tbody>\n",
       "</table>\n",
       "</div>"
      ],
      "text/plain": [
       "      year                      title  \\\n",
       "3107  2003                       Most   \n",
       "900   2008  How to Be a Serial Killer   \n",
       "6724  1941             A Woman's Face   \n",
       "4704  1954            Executive Suite   \n",
       "2582  1990              Narrow Margin   \n",
       "\n",
       "                                                   plot  \\\n",
       "3107  most is the story of a single father who takes...   \n",
       "900   a serial killer decides to teach the secrets o...   \n",
       "6724  in sweden ,  a female blackmailer with a disfi...   \n",
       "4704  in a friday afternoon in new york ,  the presi...   \n",
       "2582  in los angeles ,  the editor of a publishing h...   \n",
       "\n",
       "                                  genres  rating  \n",
       "3107                  ['Short', 'Drama']     8.0  \n",
       "900        ['Comedy', 'Crime', 'Horror']     5.6  \n",
       "6724  ['Drama', 'Film-Noir', 'Thriller']     7.2  \n",
       "4704                           ['Drama']     7.4  \n",
       "2582     ['Action', 'Crime', 'Thriller']     6.6  "
      ]
     },
     "execution_count": 4,
     "metadata": {},
     "output_type": "execute_result"
    }
   ],
   "source": [
    "dataTraining.head()"
   ]
  },
  {
   "cell_type": "code",
   "execution_count": 5,
   "metadata": {
    "collapsed": false
   },
   "outputs": [
    {
     "data": {
      "text/html": [
       "<div>\n",
       "<style scoped>\n",
       "    .dataframe tbody tr th:only-of-type {\n",
       "        vertical-align: middle;\n",
       "    }\n",
       "\n",
       "    .dataframe tbody tr th {\n",
       "        vertical-align: top;\n",
       "    }\n",
       "\n",
       "    .dataframe thead th {\n",
       "        text-align: right;\n",
       "    }\n",
       "</style>\n",
       "<table border=\"1\" class=\"dataframe\">\n",
       "  <thead>\n",
       "    <tr style=\"text-align: right;\">\n",
       "      <th></th>\n",
       "      <th>year</th>\n",
       "      <th>title</th>\n",
       "      <th>plot</th>\n",
       "    </tr>\n",
       "  </thead>\n",
       "  <tbody>\n",
       "    <tr>\n",
       "      <th>1</th>\n",
       "      <td>1999</td>\n",
       "      <td>Message in a Bottle</td>\n",
       "      <td>who meets by fate ,  shall be sealed by fate ....</td>\n",
       "    </tr>\n",
       "    <tr>\n",
       "      <th>4</th>\n",
       "      <td>1978</td>\n",
       "      <td>Midnight Express</td>\n",
       "      <td>the true story of billy hayes ,  an american c...</td>\n",
       "    </tr>\n",
       "    <tr>\n",
       "      <th>5</th>\n",
       "      <td>1996</td>\n",
       "      <td>Primal Fear</td>\n",
       "      <td>martin vail left the chicago da ' s office to ...</td>\n",
       "    </tr>\n",
       "    <tr>\n",
       "      <th>6</th>\n",
       "      <td>1950</td>\n",
       "      <td>Crisis</td>\n",
       "      <td>husband and wife americans dr .  eugene and mr...</td>\n",
       "    </tr>\n",
       "    <tr>\n",
       "      <th>7</th>\n",
       "      <td>1959</td>\n",
       "      <td>The Tingler</td>\n",
       "      <td>the coroner and scientist dr .  warren chapin ...</td>\n",
       "    </tr>\n",
       "  </tbody>\n",
       "</table>\n",
       "</div>"
      ],
      "text/plain": [
       "   year                title  \\\n",
       "1  1999  Message in a Bottle   \n",
       "4  1978     Midnight Express   \n",
       "5  1996          Primal Fear   \n",
       "6  1950               Crisis   \n",
       "7  1959          The Tingler   \n",
       "\n",
       "                                                plot  \n",
       "1  who meets by fate ,  shall be sealed by fate ....  \n",
       "4  the true story of billy hayes ,  an american c...  \n",
       "5  martin vail left the chicago da ' s office to ...  \n",
       "6  husband and wife americans dr .  eugene and mr...  \n",
       "7  the coroner and scientist dr .  warren chapin ...  "
      ]
     },
     "execution_count": 5,
     "metadata": {},
     "output_type": "execute_result"
    }
   ],
   "source": [
    "dataTesting.head()"
   ]
  },
  {
   "cell_type": "code",
   "execution_count": 6,
   "metadata": {
    "collapsed": true
   },
   "outputs": [],
   "source": [
    "test_files=dataTesting.index.values\n",
    "train_files=dataTraining.index.values"
   ]
  },
  {
   "cell_type": "code",
   "execution_count": 7,
   "metadata": {
    "collapsed": false
   },
   "outputs": [
    {
     "data": {
      "text/plain": [
       "(7895,)"
      ]
     },
     "execution_count": 7,
     "metadata": {},
     "output_type": "execute_result"
    }
   ],
   "source": [
    "train_files.shape"
   ]
  },
  {
   "cell_type": "code",
   "execution_count": 8,
   "metadata": {
    "collapsed": true
   },
   "outputs": [],
   "source": [
    "import os,shutil\n",
    "import pandas as pd\n",
    "from pathlib import Path,PureWindowsPath\n",
    "DIR = '../Proyecto final/images/'\n",
    "TRAIN_DIR = '../Proyecto final/train/'\n",
    "TEST_DIR = '../Proyecto final/Test/'\n"
   ]
  },
  {
   "cell_type": "code",
   "execution_count": 29,
   "metadata": {
    "collapsed": true
   },
   "outputs": [],
   "source": [
    "os.makedirs(TRAIN_DIR)\n",
    "os.makedirs(TEST_DIR)"
   ]
  },
  {
   "cell_type": "code",
   "execution_count": 9,
   "metadata": {
    "collapsed": true
   },
   "outputs": [],
   "source": [
    "src_path= DIR\n",
    "dst_train= TRAIN_DIR\n",
    "dst_test= TEST_DIR"
   ]
  },
  {
   "cell_type": "code",
   "execution_count": null,
   "metadata": {
    "collapsed": true
   },
   "outputs": [],
   "source": [
    "for i in train_files:\n",
    "    fname1=str(i)+'.jpeg'\n",
    "    src = os.path.join(src_path, fname1)\n",
    "    dst = os.path.join(dst_train, fname1)\n",
    "    shutil.copyfile(src, dst)"
   ]
  },
  {
   "cell_type": "code",
   "execution_count": 31,
   "metadata": {
    "collapsed": false
   },
   "outputs": [],
   "source": [
    "for j in test_files:\n",
    "    fname2=str(j)+'.jpeg'\n",
    "    src = os.path.join(src_path, fname2)\n",
    "    dst2 = os.path.join(dst_test, fname2)\n",
    "    shutil.copyfile(src, dst2)"
   ]
  },
  {
   "cell_type": "code",
   "execution_count": 10,
   "metadata": {
    "collapsed": true
   },
   "outputs": [],
   "source": [
    "DIR2 = DIR\n",
    "TRAIN_DIR2 = '../Proyecto final/model/train/'\n",
    "TEST_DIR2 = '../Proyecto final/model/test/'"
   ]
  },
  {
   "cell_type": "code",
   "execution_count": 40,
   "metadata": {
    "collapsed": true
   },
   "outputs": [],
   "source": [
    "os.makedirs(TRAIN_DIR2)\n",
    "os.makedirs(TEST_DIR2)"
   ]
  },
  {
   "cell_type": "code",
   "execution_count": 11,
   "metadata": {
    "collapsed": true
   },
   "outputs": [],
   "source": [
    "from sklearn.model_selection import train_test_split\n",
    "import os, sys"
   ]
  },
  {
   "cell_type": "code",
   "execution_count": 12,
   "metadata": {
    "collapsed": false
   },
   "outputs": [],
   "source": [
    "dataTraining['genres'] = dataTraining['genres'].map(lambda x: eval(x))\n",
    "\n",
    "le = MultiLabelBinarizer()\n",
    "y_genres = le.fit_transform(dataTraining['genres'])"
   ]
  },
  {
   "cell_type": "code",
   "execution_count": 13,
   "metadata": {
    "collapsed": true
   },
   "outputs": [],
   "source": [
    "X= dataTraining.index.values"
   ]
  },
  {
   "cell_type": "code",
   "execution_count": 14,
   "metadata": {
    "collapsed": false
   },
   "outputs": [],
   "source": [
    "src_path2= DIR2\n",
    "dst_train2= TRAIN_DIR2\n",
    "dst_test2= TEST_DIR2\n",
    "X_train, X_test, y_train_genres, y_test_genres = train_test_split(X, y_genres, test_size=0.33, random_state=42)"
   ]
  },
  {
   "cell_type": "code",
   "execution_count": 18,
   "metadata": {
    "collapsed": false
   },
   "outputs": [],
   "source": [
    "for k in X_train:\n",
    "    fname3=str(k)+'.jpeg'\n",
    "    src2 = os.path.join(src_path2, fname3)\n",
    "    dst2 = os.path.join(dst_train2, fname3)\n",
    "    shutil.copyfile(src2, dst2)"
   ]
  },
  {
   "cell_type": "code",
   "execution_count": 53,
   "metadata": {
    "collapsed": false
   },
   "outputs": [],
   "source": [
    "for l in X_test:\n",
    "    fname4=str(l)+'.jpeg'\n",
    "    src2 = os.path.join(src_path2, fname4)\n",
    "    dst2 = os.path.join(dst_test2, fname4)\n",
    "    shutil.copyfile(src2, dst2)"
   ]
  },
  {
   "cell_type": "markdown",
   "metadata": {},
   "source": [
    "## Construccion Modelo Imagenes"
   ]
  },
  {
   "cell_type": "code",
   "execution_count": 15,
   "metadata": {
    "collapsed": true
   },
   "outputs": [],
   "source": [
    "img_width, img_height = 256, 256\n",
    "top_model_weights_path = 'bottleneck_fc_model.h5'\n",
    "train_data_dir = 'model/train'\n",
    "validation_data_dir = 'model/test'\n",
    "epochs = 50\n",
    "batch_size = 16"
   ]
  },
  {
   "cell_type": "code",
   "execution_count": 16,
   "metadata": {
    "collapsed": false,
    "scrolled": true
   },
   "outputs": [
    {
     "name": "stderr",
     "output_type": "stream",
     "text": [
      "Using TensorFlow backend.\n"
     ]
    },
    {
     "data": {
      "image/png": "[encoded data removed]",
      "text/plain": [
       "<Figure size 600x400 with 1 Axes>"
      ]
     },
     "metadata": {},
     "output_type": "display_data"
    }
   ],
   "source": [
    "%matplotlib inline\n",
    "import matplotlib.pyplot as plt\n",
    "from keras.preprocessing.image import ImageDataGenerator, array_to_img, img_to_array, load_img,image\n",
    "\n",
    "img = load_img('../Proyecto final/model/train/8.jpeg')  # this is a PIL image\n",
    "x = img_to_array(img)  # this is a Numpy array with shape (3, 150, 150)\n",
    "plt.imshow(img)\n",
    "plt.show()"
   ]
  },
  {
   "cell_type": "code",
   "execution_count": 17,
   "metadata": {
    "collapsed": false
   },
   "outputs": [
    {
     "data": {
      "image/png": "[encoded data removed]",
      "text/plain": [
       "<Figure size 600x400 with 1 Axes>"
      ]
     },
     "metadata": {},
     "output_type": "display_data"
    }
   ],
   "source": [
    "datagen = ImageDataGenerator(\n",
    "        rotation_range=40,\n",
    "        width_shift_range=0.2,\n",
    "        height_shift_range=0.2,\n",
    "        shear_range=0.2,\n",
    "        zoom_range=0.2,\n",
    "        horizontal_flip=True,\n",
    "        fill_mode='nearest')\n",
    "\n",
    "img = load_img('../Proyecto final/model/train/8.jpeg')  # this is a PIL image\n",
    "x = img_to_array(img)  # this is a Numpy array with shape (3, 150, 150)\n",
    "x = x.reshape((1,) + x.shape)  # this is a Numpy array with shape (1, 3, _, _)\n",
    "\n",
    "# the .flow() command below generates batches of randomly transformed images\n",
    "# and saves the results to the `preview/` directory\n",
    "i = 0\n",
    "for batch in datagen.flow(x, batch_size=1):\n",
    "    i += 1\n",
    "    if i > 20:\n",
    "        break  # otherwise the generator would loop indefinitely\n",
    "plt.imshow(batch[0]/255) \n",
    "plt.show()"
   ]
  },
  {
   "cell_type": "markdown",
   "metadata": {},
   "source": [
    "## Read all Images \"gray\""
   ]
  },
  {
   "cell_type": "code",
   "execution_count": 18,
   "metadata": {
    "collapsed": true
   },
   "outputs": [],
   "source": [
    "image = io.imread(os.path.join(path, 'images_resize_gray', str(dataTraining.index[0]) + '_resize_gray.jpeg'))"
   ]
  },
  {
   "cell_type": "code",
   "execution_count": 19,
   "metadata": {
    "collapsed": false
   },
   "outputs": [
    {
     "data": {
      "text/plain": [
       "array([[ 3,  3,  3, ..., 57, 55, 51],\n",
       "       [ 3,  3,  3, ..., 99, 98, 95],\n",
       "       [ 3,  3,  3, ..., 97, 96, 94],\n",
       "       ...,\n",
       "       [ 0,  0,  0, ...,  0,  0,  0],\n",
       "       [ 0,  0,  0, ...,  0,  0,  0],\n",
       "       [ 0,  0,  0, ...,  0,  0,  0]], dtype=uint8)"
      ]
     },
     "execution_count": 19,
     "metadata": {},
     "output_type": "execute_result"
    }
   ],
   "source": [
    "image"
   ]
  },
  {
   "cell_type": "code",
   "execution_count": 20,
   "metadata": {
    "collapsed": false,
    "scrolled": true
   },
   "outputs": [
    {
     "data": {
      "text/plain": [
       "<matplotlib.image.AxesImage at 0x7f052cbbd828>"
      ]
     },
     "execution_count": 20,
     "metadata": {},
     "output_type": "execute_result"
    },
    {
     "data": {
      "image/png": "[encoded data removed]",
      "text/plain": [
       "<Figure size 600x400 with 1 Axes>"
      ]
     },
     "metadata": {},
     "output_type": "display_data"
    }
   ],
   "source": [
    "fig, ax = plt.subplots(nrows=1, ncols=1)\n",
    "ax.imshow(image, cmap='gray')"
   ]
  },
  {
   "cell_type": "code",
   "execution_count": 21,
   "metadata": {
    "collapsed": false
   },
   "outputs": [
    {
     "name": "stderr",
     "output_type": "stream",
     "text": [
      "100%|██████████| 7895/7895 [00:05<00:00, 1562.19it/s]\n"
     ]
    }
   ],
   "source": [
    "images_training = []\n",
    "for i in tqdm(dataTraining.index):\n",
    "    images_training.append(io.imread(os.path.join(path, 'images_resize_gray', str(i) + '_resize_gray.jpeg')).flatten())"
   ]
  },
  {
   "cell_type": "code",
   "execution_count": 22,
   "metadata": {
    "collapsed": false
   },
   "outputs": [
    {
     "data": {
      "text/plain": [
       "((7895, 40960), 7895)"
      ]
     },
     "execution_count": 22,
     "metadata": {},
     "output_type": "execute_result"
    }
   ],
   "source": [
    "images_training = np.stack(images_training)\n",
    "\n",
    "images_training.shape, dataTraining.shape[0]"
   ]
  },
  {
   "cell_type": "code",
   "execution_count": 23,
   "metadata": {
    "collapsed": false
   },
   "outputs": [
    {
     "name": "stderr",
     "output_type": "stream",
     "text": [
      "100%|██████████| 3383/3383 [00:01<00:00, 1721.76it/s]\n"
     ]
    },
    {
     "data": {
      "text/plain": [
       "((3383, 40960), 3383)"
      ]
     },
     "execution_count": 23,
     "metadata": {},
     "output_type": "execute_result"
    }
   ],
   "source": [
    "images_testing = []\n",
    "for i in tqdm(dataTesting.index):\n",
    "    images_testing.append(io.imread(os.path.join(path, 'images_resize_gray', str(i) + '_resize_gray.jpeg')).flatten())\n",
    "\n",
    "images_testing = np.stack(images_testing)\n",
    "\n",
    "images_testing.shape, dataTesting.shape[0]"
   ]
  },
  {
   "cell_type": "markdown",
   "metadata": {},
   "source": [
    "## Neural Network for Images using Transfered Learning"
   ]
  },
  {
   "cell_type": "code",
   "execution_count": 25,
   "metadata": {
    "collapsed": false
   },
   "outputs": [
    {
     "name": "stderr",
     "output_type": "stream",
     "text": [
      "100%|██████████| 7895/7895 [00:22<00:00, 347.87it/s]\n"
     ]
    },
    {
     "data": {
      "text/plain": [
       "(7895, 7, 7, 512)"
      ]
     },
     "execution_count": 25,
     "metadata": {},
     "output_type": "execute_result"
    }
   ],
   "source": [
    "from keras.applications import VGG16\n",
    "from skimage.transform import resize\n",
    "\n",
    "vgg16 = VGG16(include_top=False, weights='imagenet')\n",
    "\n",
    "def apply_vgg_grayscale(images):\n",
    "\n",
    "    images_ = []\n",
    "    for img in tqdm(images):\n",
    "\n",
    "        # reshape\n",
    "        img = img.reshape((256, 160))\n",
    "\n",
    "        # rescale\n",
    "        img = resize(img, (224, 224), mode='reflect')\n",
    "\n",
    "        # repeat\n",
    "        img = [img] * 3\n",
    "\n",
    "        images_.append(img)\n",
    "\n",
    "\n",
    "    # To numpy array\n",
    "    images_ = np.array(images_)\n",
    "\n",
    "    # move channel to last axis\n",
    "    images_ = np.rollaxis(images_, 1, 4)\n",
    "\n",
    "    # Apply vgg\n",
    "    images_vgg = vgg16.predict(images_)\n",
    "    \n",
    "    return images_vgg\n",
    "\n",
    "images_training_vgg = apply_vgg_grayscale(images_training)\n",
    "images_training_vgg.shape"
   ]
  },
  {
   "cell_type": "code",
   "execution_count": 26,
   "metadata": {
    "collapsed": true
   },
   "outputs": [],
   "source": [
    "import numpy as np\n",
    "from keras.preprocessing.image import ImageDataGenerator, img_to_array, load_img\n",
    "from keras.models import Sequential\n",
    "from keras.layers import Dropout, Flatten, Dense,Conv2D,Activation,MaxPooling2D\n",
    "from keras import applications\n",
    "from keras.utils.np_utils import to_categorical\n",
    "import matplotlib.pyplot as plt\n",
    "import math\n",
    "%matplotlib inline\n",
    "import matplotlib.pyplot as plt\n",
    "from keras.preprocessing.image import ImageDataGenerator, array_to_img, img_to_array, load_img,image"
   ]
  },
  {
   "cell_type": "code",
   "execution_count": 299,
   "metadata": {
    "collapsed": false
   },
   "outputs": [],
   "source": [
    "from keras.optimizers import rmsprop\n",
    "model = Sequential()  \n",
    "model.add(Conv2D(128, (7, 7), padding='same',input_shape=(7, 7, 512)))\n",
    "model.add(Conv2D(64, (7, 7), padding='same'))\n",
    "model.add(Conv2D(32, (7, 7), padding='same'))\n",
    "model.add(Activation('relu'))\n",
    "model.add(MaxPooling2D(2,2))\n",
    "model.add(Flatten())\n",
    "model.add(Dropout(0.5))\n",
    "model.add(Dense(units=24))\n",
    "model.add(Activation('sigmoid'))"
   ]
  },
  {
   "cell_type": "code",
   "execution_count": 300,
   "metadata": {
    "collapsed": false
   },
   "outputs": [],
   "source": [
    "from keras.optimizers import Adam\n",
    "model.compile(loss = 'categorical_crossentropy',\n",
    "              optimizer = Adam(lr=0.0001),\n",
    "              metrics = ['accuracy'])"
   ]
  },
  {
   "cell_type": "code",
   "execution_count": 301,
   "metadata": {
    "collapsed": false,
    "scrolled": true
   },
   "outputs": [
    {
     "name": "stdout",
     "output_type": "stream",
     "text": [
      "_________________________________________________________________\n",
      "Layer (type)                 Output Shape              Param #   \n",
      "=================================================================\n",
      "conv2d_72 (Conv2D)           (None, 7, 7, 128)         3211392   \n",
      "_________________________________________________________________\n",
      "conv2d_73 (Conv2D)           (None, 7, 7, 64)          401472    \n",
      "_________________________________________________________________\n",
      "conv2d_74 (Conv2D)           (None, 7, 7, 32)          100384    \n",
      "_________________________________________________________________\n",
      "activation_46 (Activation)   (None, 7, 7, 32)          0         \n",
      "_________________________________________________________________\n",
      "max_pooling2d_19 (MaxPooling (None, 3, 3, 32)          0         \n",
      "_________________________________________________________________\n",
      "flatten_21 (Flatten)         (None, 288)               0         \n",
      "_________________________________________________________________\n",
      "dropout_47 (Dropout)         (None, 288)               0         \n",
      "_________________________________________________________________\n",
      "dense_46 (Dense)             (None, 24)                6936      \n",
      "_________________________________________________________________\n",
      "activation_47 (Activation)   (None, 24)                0         \n",
      "=================================================================\n",
      "Total params: 3,720,184\n",
      "Trainable params: 3,720,184\n",
      "Non-trainable params: 0\n",
      "_________________________________________________________________\n"
     ]
    }
   ],
   "source": [
    "model.summary()"
   ]
  },
  {
   "cell_type": "code",
   "execution_count": 302,
   "metadata": {
    "collapsed": true
   },
   "outputs": [],
   "source": [
    "X_train, X_test, y_train_genres, y_test_genres = train_test_split(images_training_vgg, y_genres, test_size=0.33, random_state=42)"
   ]
  },
  {
   "cell_type": "code",
   "execution_count": 303,
   "metadata": {
    "collapsed": false,
    "scrolled": true
   },
   "outputs": [
    {
     "name": "stdout",
     "output_type": "stream",
     "text": [
      "Epoch 1/5\n",
      " - 53s - loss: 7.7753 - acc: 0.1660\n",
      "Epoch 2/5\n",
      " - 50s - loss: 7.4131 - acc: 0.2074\n",
      "Epoch 3/5\n",
      " - 50s - loss: 7.1913 - acc: 0.2290\n",
      "Epoch 4/5\n",
      " - 50s - loss: 7.0045 - acc: 0.2363\n",
      "Epoch 5/5\n",
      " - 50s - loss: 6.8073 - acc: 0.2424\n"
     ]
    },
    {
     "data": {
      "text/plain": [
       "<keras.callbacks.History at 0x7f037f71ab38>"
      ]
     },
     "execution_count": 303,
     "metadata": {},
     "output_type": "execute_result"
    }
   ],
   "source": [
    "model.fit(X_train, y_train_genres, epochs=5, verbose=2)"
   ]
  },
  {
   "cell_type": "code",
   "execution_count": 304,
   "metadata": {
    "collapsed": false
   },
   "outputs": [
    {
     "name": "stdout",
     "output_type": "stream",
     "text": [
      "[[0.36289328 0.29346648 0.02024684 ... 0.81274575 0.10276187 0.03082961]\n",
      " [0.44014573 0.15404887 0.01927056 ... 0.49206465 0.07890099 0.14381425]\n",
      " [0.75402933 0.33625773 0.02841886 ... 0.81762433 0.06801075 0.08475776]\n",
      " ...\n",
      " [0.12280097 0.06931835 0.00842737 ... 0.2460966  0.01907044 0.04512784]\n",
      " [0.333202   0.19923061 0.0164367  ... 0.3229446  0.08640868 0.05675358]\n",
      " [0.2872556  0.03804918 0.00454407 ... 0.94044644 0.16701505 0.10916011]]\n"
     ]
    }
   ],
   "source": [
    "print(model.predict(X_test))"
   ]
  },
  {
   "cell_type": "code",
   "execution_count": 305,
   "metadata": {
    "collapsed": true
   },
   "outputs": [],
   "source": [
    "y_pred_nw = model.predict_proba(X_test)"
   ]
  },
  {
   "cell_type": "code",
   "execution_count": 306,
   "metadata": {
    "collapsed": false
   },
   "outputs": [
    {
     "data": {
      "text/plain": [
       "0.6984994711906864"
      ]
     },
     "execution_count": 306,
     "metadata": {},
     "output_type": "execute_result"
    }
   ],
   "source": [
    "roc_auc_score(y_test_genres, y_pred_nw, average='macro')"
   ]
  },
  {
   "cell_type": "code",
   "execution_count": 46,
   "metadata": {
    "collapsed": false
   },
   "outputs": [
    {
     "name": "stderr",
     "output_type": "stream",
     "text": [
      "100%|██████████| 3383/3383 [00:07<00:00, 441.72it/s]\n"
     ]
    },
    {
     "data": {
      "text/plain": [
       "(3383, 7, 7, 512)"
      ]
     },
     "execution_count": 46,
     "metadata": {},
     "output_type": "execute_result"
    }
   ],
   "source": [
    "images_testing_vgg = apply_vgg_grayscale(images_testing)\n",
    "images_testing_vgg.shape"
   ]
  },
  {
   "cell_type": "code",
   "execution_count": 47,
   "metadata": {
    "collapsed": false
   },
   "outputs": [
    {
     "data": {
      "text/plain": [
       "(3383, 7, 7, 512)"
      ]
     },
     "execution_count": 47,
     "metadata": {},
     "output_type": "execute_result"
    }
   ],
   "source": [
    "images_testing_vgg.shape"
   ]
  },
  {
   "cell_type": "markdown",
   "metadata": {},
   "source": [
    "## Neutral Network for Text"
   ]
  },
  {
   "cell_type": "code",
   "execution_count": 50,
   "metadata": {
    "collapsed": false
   },
   "outputs": [],
   "source": [
    "X= dataTraining['plot']\n",
    "Xt_train, Xt_test = train_test_split(X, test_size=0.33, random_state=42)"
   ]
  },
  {
   "cell_type": "markdown",
   "metadata": {},
   "source": [
    "### Create count vectorizer with ngrams"
   ]
  },
  {
   "cell_type": "code",
   "execution_count": 52,
   "metadata": {
    "collapsed": false
   },
   "outputs": [
    {
     "data": {
      "text/plain": [
       "(5289, 1000)"
      ]
     },
     "execution_count": 52,
     "metadata": {},
     "output_type": "execute_result"
    }
   ],
   "source": [
    "from sklearn.feature_extraction.text import CountVectorizer\n",
    "vect = CountVectorizer(ngram_range=(1, 2), max_features=1000, stop_words='english')\n",
    "X_dtm = vect.fit_transform(Xt_train)\n",
    "X_dtm2 =  vect.transform(Xt_test)\n",
    "X2=vect.transform(dataTesting['plot'])\n",
    "X_dtm.shape"
   ]
  },
  {
   "cell_type": "code",
   "execution_count": 53,
   "metadata": {
    "collapsed": false,
    "scrolled": true
   },
   "outputs": [
    {
     "name": "stdout",
     "output_type": "stream",
     "text": [
      "frozenset({'none', 'thereupon', 'she', 'hundred', 'with', 'everything', 'any', 'its', 'yet', 'my', 'at', 'him', 'amoungst', 'thus', 'show', 'becomes', 'until', 'elsewhere', 'latterly', 'cant', 'over', 'while', 'they', 'between', 'am', 'be', 'bottom', 'the', 'done', 'noone', 'three', 'third', 'around', 'con', 'of', 'whom', 'sometimes', 'others', 'describe', 'five', 'toward', 'than', 'nevertheless', 'should', 'ourselves', 'onto', 'or', 'every', 'nowhere', 'before', 'where', 'whereupon', 'hers', 'them', 'thin', 'across', 'fifty', 'never', 'throughout', 'meanwhile', 'what', 'seem', 'therefore', 'enough', 'six', 'were', 'becoming', 'except', 'always', 'next', 'often', 'when', 'cry', 'has', 'nor', 'upon', 'both', 'side', 'into', 'de', 'system', 'might', 'about', 'during', 'almost', 'being', 'itself', 'made', 'and', 'everywhere', 'rather', 're', 'you', 'somehow', 'moreover', 'even', 'anyone', 'get', 'since', 'do', 'herein', 'now', 'but', 'fire', 'below', 'hereby', 'together', 'some', 'see', 'from', 'whether', 'off', 'although', 'nine', 'few', 'his', 'less', 'otherwise', 'there', 'we', 'whatever', 'co', 'within', 'besides', 'her', 'thence', 'was', 'are', 'part', 'how', 'again', 'top', 'something', 'per', 'nothing', 'for', 'these', 'through', 'too', 'well', 'your', 'much', 'mine', 'take', 'us', 'hasnt', 'wherever', 'became', 'another', 'that', 'full', 'had', 'by', 'become', 'herself', 'then', 'if', 'sincere', 'those', 'hence', 'all', 'move', 'eight', 'also', 'own', 'towards', 'here', 'whereas', 'former', 'in', 'last', 'themselves', 'many', 'who', 'go', 'ten', 'least', 'hereafter', 'been', 'latter', 'sometime', 'please', 'couldnt', 'however', 'alone', 'front', 'whereafter', 'afterwards', 'once', 'therein', 'indeed', 'under', 'up', 'it', 'same', 'only', 'cannot', 'via', 'whereby', 'very', 'four', 'interest', 'whither', 'whole', 'would', 'namely', 'a', 'because', 'seeming', 'somewhere', 'which', 'formerly', 'can', 'not', 'whoever', 'ever', 'further', 'perhaps', 'their', 'beforehand', 'anywhere', 'either', 'myself', 'such', 'un', 'why', 'detail', 'behind', 'back', 'mill', 'name', 'nobody', 'along', 'forty', 'everyone', 'our', 'thru', 'against', 'must', 'could', 'etc', 'to', 'fifteen', 'serious', 'still', 'this', 'among', 'already', 'more', 'most', 'so', 'twenty', 'call', 'neither', 'give', 'seemed', 'beside', 'out', 'thereafter', 'whenever', 'whose', 'else', 'eleven', 'yours', 'inc', 'find', 'anything', 'ours', 'beyond', 'thereby', 'no', 'sixty', 'ltd', 'someone', 'me', 'first', 'seems', 'wherein', 'though', 'ie', 'will', 'found', 'hereupon', 'two', 'several', 'an', 'after', 'anyhow', 'one', 'due', 'other', 'put', 'have', 'without', 'yourself', 'may', 'above', 'as', 'mostly', 'down', 'empty', 'himself', 'amongst', 'fill', 'i', 'thick', 'bill', 'anyway', 'on', 'amount', 'twelve', 'he', 'eg', 'whence', 'yourselves', 'each', 'is', 'keep'})\n"
     ]
    }
   ],
   "source": [
    "print(vect.get_stop_words())"
   ]
  },
  {
   "cell_type": "code",
   "execution_count": 54,
   "metadata": {
    "collapsed": false
   },
   "outputs": [
    {
     "name": "stdout",
     "output_type": "stream",
     "text": [
      "['abandoned', 'able', 'accepts', 'accident', 'accidentally', 'act', 'action', 'actor', 'actress', 'actually', 'adam', 'adult', 'adventure', 'affair', 'age', 'aged', 'agent', 'agents', 'ago', 'agrees', 'air', 'alan', 'alex', 'alice', 'alien', 'alive', 'america', 'american', 'ancient', 'andrew', 'angeles', 'ann', 'anna', 'annie', 'apart', 'apartment', 'appears', 'area', 'army', 'arrested', 'arrival', 'arrive', 'arrives', 'art', 'artist', 'asks', 'aspiring', 'assigned', 'assistant', 'attack']\n"
     ]
    }
   ],
   "source": [
    "print(vect.get_feature_names()[:50])"
   ]
  },
  {
   "cell_type": "code",
   "execution_count": 55,
   "metadata": {
    "collapsed": true
   },
   "outputs": [],
   "source": [
    "from keras.models import Sequential\n",
    "from keras.utils import np_utils\n",
    "from keras.layers import Dense, Dropout, Activation, BatchNormalization,Flatten\n",
    "from keras.optimizers import RMSprop\n",
    "from keras.callbacks import History\n",
    "from livelossplot import PlotLossesKeras"
   ]
  },
  {
   "cell_type": "code",
   "execution_count": 57,
   "metadata": {
    "collapsed": false
   },
   "outputs": [
    {
     "name": "stdout",
     "output_type": "stream",
     "text": [
      "(5289, 1000)\n",
      "(5289, 24)\n"
     ]
    }
   ],
   "source": [
    "print (X_dtm.shape)\n",
    "print (y_train_genres.shape)"
   ]
  },
  {
   "cell_type": "code",
   "execution_count": 58,
   "metadata": {
    "collapsed": true
   },
   "outputs": [],
   "source": [
    "Y = y_train_genres\n",
    "Y2 = y_test_genres"
   ]
  },
  {
   "cell_type": "code",
   "execution_count": 59,
   "metadata": {
    "collapsed": false
   },
   "outputs": [
    {
     "data": {
      "text/plain": [
       "(1000,)"
      ]
     },
     "execution_count": 59,
     "metadata": {},
     "output_type": "execute_result"
    }
   ],
   "source": [
    "input_shape=X_dtm.shape[1:]\n",
    "input_shape"
   ]
  },
  {
   "cell_type": "code",
   "execution_count": 265,
   "metadata": {
    "collapsed": true
   },
   "outputs": [],
   "source": [
    "#Dropout ayuda a evitar el overfitting\n",
    "model2 = Sequential()\n",
    "model2.add(Dense(units=256,input_shape=X_dtm.shape[1:]))\n",
    "model2.add(Dropout(0.3))\n",
    "model2.add(Activation('tanh'))\n",
    "model2.add(BatchNormalization())\n",
    "model2.add(Dropout(0.7))\n",
    "model2.add(Dense(units=24))\n",
    "model2.add(Activation('sigmoid'))"
   ]
  },
  {
   "cell_type": "code",
   "execution_count": 266,
   "metadata": {
    "collapsed": true
   },
   "outputs": [],
   "source": [
    "from keras.optimizers import SGD,RMSprop,Adagrad,Adam\n",
    "model2.compile(loss = 'categorical_crossentropy',\n",
    "              optimizer = Adam(lr=0.01),\n",
    "              metrics = ['accuracy'])"
   ]
  },
  {
   "cell_type": "code",
   "execution_count": 267,
   "metadata": {
    "collapsed": false
   },
   "outputs": [
    {
     "name": "stdout",
     "output_type": "stream",
     "text": [
      "_________________________________________________________________\n",
      "Layer (type)                 Output Shape              Param #   \n",
      "=================================================================\n",
      "dense_40 (Dense)             (None, 256)               256256    \n",
      "_________________________________________________________________\n",
      "dropout_41 (Dropout)         (None, 256)               0         \n",
      "_________________________________________________________________\n",
      "activation_36 (Activation)   (None, 256)               0         \n",
      "_________________________________________________________________\n",
      "batch_normalization_12 (Batc (None, 256)               1024      \n",
      "_________________________________________________________________\n",
      "dropout_42 (Dropout)         (None, 256)               0         \n",
      "_________________________________________________________________\n",
      "dense_41 (Dense)             (None, 24)                6168      \n",
      "_________________________________________________________________\n",
      "activation_37 (Activation)   (None, 24)                0         \n",
      "=================================================================\n",
      "Total params: 263,448\n",
      "Trainable params: 262,936\n",
      "Non-trainable params: 512\n",
      "_________________________________________________________________\n"
     ]
    }
   ],
   "source": [
    "model2.summary()"
   ]
  },
  {
   "cell_type": "code",
   "execution_count": 268,
   "metadata": {
    "collapsed": false,
    "scrolled": true
   },
   "outputs": [
    {
     "name": "stdout",
     "output_type": "stream",
     "text": [
      "Epoch 1/50\n",
      " - 4s - loss: 7.8586 - acc: 0.1840\n",
      "Epoch 2/50\n",
      " - 1s - loss: 6.7704 - acc: 0.2490\n",
      "Epoch 3/50\n",
      " - 1s - loss: 6.4369 - acc: 0.2847\n",
      "Epoch 4/50\n",
      " - 1s - loss: 6.2358 - acc: 0.2815\n",
      "Epoch 5/50\n",
      " - 1s - loss: 6.1088 - acc: 0.2889\n",
      "Epoch 6/50\n",
      " - 1s - loss: 6.0329 - acc: 0.2868\n",
      "Epoch 7/50\n",
      " - 1s - loss: 5.9285 - acc: 0.3008\n",
      "Epoch 8/50\n",
      " - 1s - loss: 5.8491 - acc: 0.2997\n",
      "Epoch 9/50\n",
      " - 1s - loss: 5.8296 - acc: 0.3086\n",
      "Epoch 10/50\n",
      " - 1s - loss: 5.7760 - acc: 0.3050\n",
      "Epoch 11/50\n",
      " - 1s - loss: 5.7367 - acc: 0.3239\n",
      "Epoch 12/50\n",
      " - 1s - loss: 5.7041 - acc: 0.3175\n",
      "Epoch 13/50\n",
      " - 1s - loss: 5.6858 - acc: 0.3226\n",
      "Epoch 14/50\n",
      " - 1s - loss: 5.6109 - acc: 0.3348\n",
      "Epoch 15/50\n",
      " - 1s - loss: 5.6017 - acc: 0.3261\n",
      "Epoch 16/50\n",
      " - 1s - loss: 5.5742 - acc: 0.3339\n",
      "Epoch 17/50\n",
      " - 1s - loss: 5.5765 - acc: 0.3320\n",
      "Epoch 18/50\n",
      " - 1s - loss: 5.5547 - acc: 0.3388\n",
      "Epoch 19/50\n",
      " - 1s - loss: 5.5132 - acc: 0.3331\n",
      "Epoch 20/50\n",
      " - 1s - loss: 5.5443 - acc: 0.3356\n",
      "Epoch 21/50\n",
      " - 1s - loss: 5.4860 - acc: 0.3333\n",
      "Epoch 22/50\n",
      " - 1s - loss: 5.4594 - acc: 0.3443\n",
      "Epoch 23/50\n",
      " - 1s - loss: 5.4496 - acc: 0.3320\n",
      "Epoch 24/50\n",
      " - 1s - loss: 5.4108 - acc: 0.3424\n",
      "Epoch 25/50\n",
      " - 1s - loss: 5.4113 - acc: 0.3483\n",
      "Epoch 26/50\n",
      " - 1s - loss: 5.4071 - acc: 0.3443\n",
      "Epoch 27/50\n",
      " - 1s - loss: 5.3743 - acc: 0.3454\n",
      "Epoch 28/50\n",
      " - 1s - loss: 5.3401 - acc: 0.3505\n",
      "Epoch 29/50\n",
      " - 1s - loss: 5.3739 - acc: 0.3509\n",
      "Epoch 30/50\n",
      " - 1s - loss: 5.3479 - acc: 0.3551\n",
      "Epoch 31/50\n",
      " - 1s - loss: 5.3499 - acc: 0.3460\n",
      "Epoch 32/50\n",
      " - 1s - loss: 5.3356 - acc: 0.3545\n",
      "Epoch 33/50\n",
      " - 1s - loss: 5.2937 - acc: 0.3598\n",
      "Epoch 34/50\n",
      " - 1s - loss: 5.3049 - acc: 0.3505\n",
      "Epoch 35/50\n",
      " - 1s - loss: 5.3068 - acc: 0.3452\n",
      "Epoch 36/50\n",
      " - 1s - loss: 5.2917 - acc: 0.3570\n",
      "Epoch 37/50\n",
      " - 1s - loss: 5.2377 - acc: 0.3566\n",
      "Epoch 38/50\n",
      " - 1s - loss: 5.2537 - acc: 0.3604\n",
      "Epoch 39/50\n",
      " - 1s - loss: 5.2345 - acc: 0.3587\n",
      "Epoch 40/50\n",
      " - 1s - loss: 5.2376 - acc: 0.3621\n",
      "Epoch 41/50\n",
      " - 1s - loss: 5.2447 - acc: 0.3496\n",
      "Epoch 42/50\n",
      " - 1s - loss: 5.2008 - acc: 0.3503\n",
      "Epoch 43/50\n",
      " - 1s - loss: 5.1815 - acc: 0.3626\n",
      "Epoch 44/50\n",
      " - 1s - loss: 5.1739 - acc: 0.3672\n",
      "Epoch 45/50\n",
      " - 1s - loss: 5.1998 - acc: 0.3659\n",
      "Epoch 46/50\n",
      " - 1s - loss: 5.1612 - acc: 0.3655\n",
      "Epoch 47/50\n",
      " - 1s - loss: 5.1829 - acc: 0.3587\n",
      "Epoch 48/50\n",
      " - 1s - loss: 5.1760 - acc: 0.3630\n",
      "Epoch 49/50\n",
      " - 1s - loss: 5.1436 - acc: 0.3604\n",
      "Epoch 50/50\n",
      " - 1s - loss: 5.1599 - acc: 0.3498\n"
     ]
    },
    {
     "data": {
      "text/plain": [
       "<keras.callbacks.History at 0x7f03859aa898>"
      ]
     },
     "execution_count": 268,
     "metadata": {},
     "output_type": "execute_result"
    }
   ],
   "source": [
    "model2.fit(X_dtm, Y, epochs=50, verbose=2)"
   ]
  },
  {
   "cell_type": "code",
   "execution_count": 269,
   "metadata": {
    "collapsed": false
   },
   "outputs": [
    {
     "name": "stdout",
     "output_type": "stream",
     "text": [
      "[[1.1502488e-01 1.4200804e-03 4.1809503e-06 ... 9.7702706e-01\n",
      "  9.8624639e-04 8.2903756e-03]\n",
      " [4.3672016e-01 7.1753561e-01 2.3261728e-03 ... 1.3820109e-01\n",
      "  9.9993813e-01 4.3467226e-05]\n",
      " [9.9164611e-01 2.8849706e-02 2.1114536e-05 ... 9.9902344e-01\n",
      "  2.8636359e-04 5.5570315e-05]\n",
      " ...\n",
      " [9.9174716e-03 5.9061509e-02 7.5101117e-03 ... 3.3108409e-02\n",
      "  1.0808740e-06 1.0336724e-02]\n",
      " [1.2337527e-05 3.8004231e-03 8.5650355e-04 ... 4.6229523e-02\n",
      "  1.3011570e-05 1.4358262e-05]\n",
      " [9.6360832e-02 1.1204765e-01 6.6063586e-03 ... 9.6791482e-01\n",
      "  1.4398574e-05 7.6019164e-04]]\n"
     ]
    }
   ],
   "source": [
    "print(model2.predict(X_dtm2))"
   ]
  },
  {
   "cell_type": "code",
   "execution_count": 270,
   "metadata": {
    "collapsed": true
   },
   "outputs": [],
   "source": [
    "y_pred_nw2 = model2.predict_proba(X_dtm2)"
   ]
  },
  {
   "cell_type": "code",
   "execution_count": 271,
   "metadata": {
    "collapsed": false
   },
   "outputs": [
    {
     "data": {
      "text/plain": [
       "0.8341701980262809"
      ]
     },
     "execution_count": 271,
     "metadata": {},
     "output_type": "execute_result"
    }
   ],
   "source": [
    "roc_auc_score(Y2, model2.predict(X_dtm2), average='macro')"
   ]
  },
  {
   "cell_type": "markdown",
   "metadata": {},
   "source": [
    "### Merge de Neural Netowork Images and Text Models"
   ]
  },
  {
   "cell_type": "code",
   "execution_count": 307,
   "metadata": {
    "collapsed": false
   },
   "outputs": [],
   "source": [
    "AUC_scores_mix=[]\n",
    "w_range=range(10, 100, 1)\n",
    "for w in w_range:\n",
    "    y_pred_mix=(w/100)*y_pred_nw2+y_pred_nw*((100-w)/100)\n",
    "    AUC_scores_mix.append(roc_auc_score(y_test_genres, y_pred_mix, average='macro'))"
   ]
  },
  {
   "cell_type": "code",
   "execution_count": 308,
   "metadata": {
    "collapsed": false
   },
   "outputs": [
    {
     "data": {
      "text/plain": [
       "Text(0,0.5,'AUC')"
      ]
     },
     "execution_count": 308,
     "metadata": {},
     "output_type": "execute_result"
    },
    {
     "data": {
      "image/png": "[encoded data removed]",
      "text/plain": [
       "<Figure size 600x400 with 1 Axes>"
      ]
     },
     "metadata": {},
     "output_type": "display_data"
    }
   ],
   "source": [
    "plt.plot(w_range, AUC_scores_mix)\n",
    "plt.xlabel('Weight for Text Model')\n",
    "plt.ylabel('AUC')"
   ]
  },
  {
   "cell_type": "code",
   "execution_count": 309,
   "metadata": {
    "collapsed": false
   },
   "outputs": [
    {
     "data": {
      "text/plain": [
       "0.8384562115204984"
      ]
     },
     "execution_count": 309,
     "metadata": {},
     "output_type": "execute_result"
    }
   ],
   "source": [
    "import numpy as np\n",
    "np.amax(AUC_scores_mix)"
   ]
  },
  {
   "cell_type": "code",
   "execution_count": 312,
   "metadata": {
    "collapsed": false,
    "scrolled": true
   },
   "outputs": [
    {
     "data": {
      "text/plain": [
       "0.8384562115204984"
      ]
     },
     "execution_count": 312,
     "metadata": {},
     "output_type": "execute_result"
    }
   ],
   "source": [
    "w=98\n",
    "y_pred_mix=(w/100)*y_pred_nw2+y_pred_nw*((100-w)/100)\n",
    "roc_auc_score(y_test_genres, y_pred_mix, average='macro')"
   ]
  },
  {
   "cell_type": "markdown",
   "metadata": {},
   "source": [
    "# Export models to test"
   ]
  },
  {
   "cell_type": "markdown",
   "metadata": {},
   "source": [
    "Export results Neural Network with transfer learning vgg16 for images"
   ]
  },
  {
   "cell_type": "code",
   "execution_count": 314,
   "metadata": {
    "collapsed": false
   },
   "outputs": [
    {
     "data": {
      "text/plain": [
       "(3383, 7, 7, 512)"
      ]
     },
     "execution_count": 314,
     "metadata": {},
     "output_type": "execute_result"
    }
   ],
   "source": [
    "images_testing_vgg.shape"
   ]
  },
  {
   "cell_type": "code",
   "execution_count": 315,
   "metadata": {
    "collapsed": false
   },
   "outputs": [],
   "source": [
    "cols = ['p_Action', 'p_Adventure', 'p_Animation', 'p_Biography', 'p_Comedy', 'p_Crime', 'p_Documentary', 'p_Drama', 'p_Family',\n",
    "        'p_Fantasy', 'p_Film-Noir', 'p_History', 'p_Horror', 'p_Music', 'p_Musical', 'p_Mystery', 'p_News', 'p_Romance',\n",
    "        'p_Sci-Fi', 'p_Short', 'p_Sport', 'p_Thriller', 'p_War', 'p_Western']\n",
    "\n",
    "y_pred_test_nw = model.predict_proba(images_testing_vgg)\n",
    "\n",
    "pd.DataFrame(y_pred_test_nw, index=dataTesting.index, columns=cols).to_csv('Final_pred_img_NW_VGG2.csv', index_label='ID')"
   ]
  },
  {
   "cell_type": "markdown",
   "metadata": {},
   "source": [
    "Export results Neural Network for Text"
   ]
  },
  {
   "cell_type": "code",
   "execution_count": 317,
   "metadata": {
    "collapsed": false
   },
   "outputs": [],
   "source": [
    "cols = ['p_Action', 'p_Adventure', 'p_Animation', 'p_Biography', 'p_Comedy', 'p_Crime', 'p_Documentary', 'p_Drama', 'p_Family',\n",
    "        'p_Fantasy', 'p_Film-Noir', 'p_History', 'p_Horror', 'p_Music', 'p_Musical', 'p_Mystery', 'p_News', 'p_Romance',\n",
    "        'p_Sci-Fi', 'p_Short', 'p_Sport', 'p_Thriller', 'p_War', 'p_Western']\n",
    "\n",
    "y_pred_test_nw2 = model2.predict_proba(vect.transform(dataTesting['plot']))\n",
    "\n",
    "pd.DataFrame(y_pred_test_nw2, index=dataTesting.index, columns=cols).to_csv('Final_pred_text_NW2.csv', index_label='ID')"
   ]
  },
  {
   "cell_type": "markdown",
   "metadata": {},
   "source": [
    "Export results Neural Network model for mixed model Images Transfer Learning VGG16+Text. Text model weight=0.84"
   ]
  },
  {
   "cell_type": "code",
   "execution_count": 318,
   "metadata": {
    "collapsed": true
   },
   "outputs": [],
   "source": [
    "w=98\n",
    "\n",
    "cols = ['p_Action', 'p_Adventure', 'p_Animation', 'p_Biography', 'p_Comedy', 'p_Crime', 'p_Documentary', 'p_Drama', 'p_Family',\n",
    "        'p_Fantasy', 'p_Film-Noir', 'p_History', 'p_Horror', 'p_Music', 'p_Musical', 'p_Mystery', 'p_News', 'p_Romance',\n",
    "        'p_Sci-Fi', 'p_Short', 'p_Sport', 'p_Thriller', 'p_War', 'p_Western']\n",
    "\n",
    "y_pred_test_mix=(w/100)*y_pred_test_nw2+y_pred_test_nw*((100-w)/100)\n",
    "\n",
    "pd.DataFrame(y_pred_test_mix, index=dataTesting.index, columns=cols).to_csv('Final_pred_NW_MIX2.csv', index_label='ID')"
   ]
  },
  {
   "cell_type": "code",
   "execution_count": null,
   "metadata": {
    "collapsed": true
   },
   "outputs": [],
   "source": []
  }
 ],
 "metadata": {
  "kernelspec": {
   "display_name": "Python 3",
   "language": "python",
   "name": "python3"
  },
  "language_info": {
   "codemirror_mode": {
    "name": "ipython",
    "version": 3
   },
   "file_extension": ".py",
   "mimetype": "text/x-python",
   "name": "python",
   "nbconvert_exporter": "python",
   "pygments_lexer": "ipython3",
   "version": "3.5.4"
  }
 },
 "nbformat": 4,
 "nbformat_minor": 2
}
